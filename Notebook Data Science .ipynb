{
 "cells": [
  {
   "cell_type": "markdown",
   "id": "503b8d1a",
   "metadata": {},
   "source": [
    "Markdown"
   ]
  },
  {
   "cell_type": "code",
   "execution_count": 1,
   "id": "ca0ddb41",
   "metadata": {},
   "outputs": [],
   "source": [
    "# Notebook of Data Science \n"
   ]
  },
  {
   "cell_type": "markdown",
   "id": "6573d518",
   "metadata": {},
   "source": [
    "Markdown "
   ]
  },
  {
   "cell_type": "code",
   "execution_count": 3,
   "id": "f04ad6d3",
   "metadata": {},
   "outputs": [],
   "source": [
    "# Introduction\n",
    "\n",
    "This notebook is a collection of exercises on data science.\n",
    "It covers topics such as data science languages, \n",
    "libraries, tools, and arithmetic expressions"
   ]
  },
  {
   "cell_type": "markdown",
   "id": "48be721d",
   "metadata": {},
   "source": [
    "Markdown"
   ]
  },
  {
   "cell_type": "code",
   "execution_count": null,
   "id": "30e43c0e",
   "metadata": {},
   "outputs": [],
   "source": [
    "# Data Science Languages\n",
    "\n",
    "* Python\n",
    "* R\n",
    "* Julia\n",
    "* Scala\n",
    "* SQL\n",
    "* java "
   ]
  },
  {
   "cell_type": "markdown",
   "id": "ead2c4ce",
   "metadata": {},
   "source": [
    "Markdown"
   ]
  },
  {
   "cell_type": "code",
   "execution_count": null,
   "id": "0b31ba35",
   "metadata": {},
   "outputs": [],
   "source": [
    "# Data Science Libraries\n",
    "\n",
    "* NumPy\n",
    "* Pandas\n",
    "* SciPy\n",
    "* Matplotlib\n",
    "* Seaborn\n"
   ]
  },
  {
   "cell_type": "markdown",
   "id": "56bb4ec4",
   "metadata": {},
   "source": [
    "| Tool | Description |\n",
    "|---|---|\n",
    "| Jupyter Notebook | A web-based interactive environment for creating and sharing documents that contain live code, equations, visualizations and narrative text. |\n",
    "| Python | A general-purpose programming language that is often used for data science. |\n",
    "| R | A statistical programming language that is often used for data science. |\n",
    "| Julia | A high-performance dynamic programming language that is often used for data science. |\n",
    "| Scala | A general-purpose programming language that is often used for data science. |\n",
    "| SQL | A database language that is often used for data science. |\n"
   ]
  },
  {
   "cell_type": "markdown",
   "id": "b5c46457",
   "metadata": {},
   "source": [
    "Markdown"
   ]
  },
  {
   "cell_type": "code",
   "execution_count": null,
   "id": "10112c08",
   "metadata": {},
   "outputs": [],
   "source": [
    "## Arithmetic Expression Examples\n",
    "\n",
    "5 + 2 = 7\n",
    "10 - 3 = 7\n",
    "2 * 3 = 6\n",
    "10 / 2 = 5\n",
    "(5 + 2) * 3 = 21\n",
    "10 - (3 + 2) = 5\n",
    "2 ** 3 = 8 (exponentiation)\n",
    "5 % 2 = 1 (remainder)"
   ]
  },
  {
   "cell_type": "code",
   "execution_count": 4,
   "id": "5050414b",
   "metadata": {},
   "outputs": [
    {
     "name": "stdout",
     "output_type": "stream",
     "text": [
      "9\n"
     ]
    }
   ],
   "source": [
    "def multiply_and_add(x, y):\n",
    " \n",
    "\n",
    "  product = x * y\n",
    "  sum = product + y\n",
    "  return sum\n",
    "\n",
    "\n",
    "if __name__ == \"__main__\":\n",
    "  print(multiply_and_add(2, 3))\n"
   ]
  },
  {
   "cell_type": "code",
   "execution_count": 5,
   "id": "7fd1e244",
   "metadata": {},
   "outputs": [
    {
     "name": "stdout",
     "output_type": "stream",
     "text": [
      "1.0\n"
     ]
    }
   ],
   "source": [
    "def minutes_to_hours(minutes):\n",
    " \n",
    "\n",
    "  hours = minutes / 60\n",
    "  return hours\n",
    "\n",
    "\n",
    "if __name__ == \"__main__\":\n",
    "  print(minutes_to_hours(60))\n"
   ]
  },
  {
   "cell_type": "markdown",
   "id": "45c27233",
   "metadata": {},
   "source": [
    "Markdown"
   ]
  },
  {
   "cell_type": "code",
   "execution_count": null,
   "id": "4f1fddb2",
   "metadata": {},
   "outputs": [],
   "source": [
    "### Objectives\n",
    "\n",
    "* Learn about data science languages.\n",
    "* Learn about data science libraries.\n",
    "* Learn about data science tools.\n",
    "* Learn about arithmetic expressions.\n"
   ]
  },
  {
   "cell_type": "markdown",
   "id": "a48e8dcc",
   "metadata": {},
   "source": [
    "markdown"
   ]
  },
  {
   "cell_type": "code",
   "execution_count": null,
   "id": "29586cfa",
   "metadata": {},
   "outputs": [],
   "source": [
    "## Author\n",
    "\n",
    "Ahmed Hamada Shaban AbdelTawab"
   ]
  },
  {
   "cell_type": "code",
   "execution_count": null,
   "id": "24ff5c06",
   "metadata": {},
   "outputs": [],
   "source": []
  }
 ],
 "metadata": {
  "kernelspec": {
   "display_name": "Python 3 (ipykernel)",
   "language": "python",
   "name": "python3"
  },
  "language_info": {
   "codemirror_mode": {
    "name": "ipython",
    "version": 3
   },
   "file_extension": ".py",
   "mimetype": "text/x-python",
   "name": "python",
   "nbconvert_exporter": "python",
   "pygments_lexer": "ipython3",
   "version": "3.9.13"
  }
 },
 "nbformat": 4,
 "nbformat_minor": 5
}
